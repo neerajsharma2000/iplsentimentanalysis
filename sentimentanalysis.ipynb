{
 "cells": [
  {
   "cell_type": "code",
   "execution_count": 2,
   "metadata": {},
   "outputs": [
    {
     "name": "stdout",
     "output_type": "stream",
     "text": [
      "Python: 3.9.6 (tags/v3.9.6:db3ff76, Jun 28 2021, 15:26:21) [MSC v.1929 64 bit (AMD64)]\n",
      "scipy: 1.7.1\n",
      "numpy: 1.21.2\n",
      "matplotlib: 3.4.3\n",
      "pandas: 1.3.3\n",
      "sklearn: 1.0\n"
     ]
    }
   ],
   "source": [
    "# Check the versions of libraries\n",
    "\n",
    "# Python version\n",
    "import sys\n",
    "print('Python: {}'.format(sys.version))\n",
    "# scipy\n",
    "import scipy\n",
    "print('scipy: {}'.format(scipy.__version__))\n",
    "# numpy\n",
    "import numpy\n",
    "print('numpy: {}'.format(numpy.__version__))\n",
    "# matplotlib\n",
    "import matplotlib\n",
    "print('matplotlib: {}'.format(matplotlib.__version__))\n",
    "# pandas\n",
    "import pandas\n",
    "print('pandas: {}'.format(pandas.__version__))\n",
    "# scikit-learn\n",
    "import sklearn\n",
    "print('sklearn: {}'.format(sklearn.__version__))\n"
   ]
  },
  {
   "cell_type": "code",
   "execution_count": 3,
   "metadata": {},
   "outputs": [],
   "source": [
    "# Load libraries\n",
    "\n",
    "import pandas\n",
    "from pandas.plotting import scatter_matrix\n",
    "import matplotlib.pyplot as plt\n",
    "from sklearn import model_selection\n",
    "from sklearn.metrics import classification_report\n",
    "from sklearn.metrics import confusion_matrix\n",
    "from sklearn.metrics import accuracy_score\n",
    "from sklearn.linear_model import LogisticRegression\n",
    "from sklearn.tree import DecisionTreeClassifier\n",
    "from sklearn.neighbors import KNeighborsClassifier\n",
    "from sklearn.discriminant_analysis import LinearDiscriminantAnalysis\n",
    "from sklearn.naive_bayes import GaussianNB\n",
    "from sklearn.svm import SVC\n"
   ]
  },
  {
   "cell_type": "code",
   "execution_count": 4,
   "metadata": {},
   "outputs": [],
   "source": [
    "from textblob import TextBlob\n",
    "import sys\n",
    "import tweepy\n",
    "import matplotlib.pyplot as plt\n",
    "import pandas as pd\n",
    "import numpy as np\n",
    "import os\n",
    "import nltk\n",
    "import pycountry\n",
    "import re\n",
    "import string\n",
    "#from wordcloud import WordCloud, STOPWORDS\n",
    "from PIL import Image\n",
    "from nltk.sentiment.vader import SentimentIntensityAnalyzer\n",
    "from langdetect import detect\n",
    "from nltk.stem import SnowballStemmer\n",
    "from nltk.sentiment.vader import SentimentIntensityAnalyzer\n",
    "from sklearn.feature_extraction.text import CountVectorizer\n"
   ]
  },
  {
   "cell_type": "code",
   "execution_count": 5,
   "metadata": {},
   "outputs": [
    {
     "name": "stdout",
     "output_type": "stream",
     "text": [
      "When you realise it is Friday tomorrow. 😁\n",
      "\n",
      "#PlayBold #WeAreChallengers #FridayMood #WeekendMood https://t.co/Tc3UzxkOie\n",
      "Sentiment(polarity=0.0, subjectivity=0.0)\n",
      "\n",
      "\n",
      "One Sleep Away...🥳\n",
      "\n",
      "#CSKvKKR #WhistlePodu #Yellove 🦁💛 https://t.co/yqYZ9CCFOY\n",
      "Sentiment(polarity=0.0, subjectivity=0.0)\n",
      "\n",
      "\n",
      ".@RickyPonting sums up how special this team is 💙\n",
      "\n",
      "#YehHaiNayiDilli #IPL2021 https://t.co/5QRsrAAyoM\n",
      "Sentiment(polarity=0.35714285714285715, subjectivity=0.5714285714285714)\n",
      "\n",
      "\n",
      "𝘼 𝙨𝙞𝙜𝙝𝙩 𝙛𝙤𝙧 𝙨𝙤𝙧𝙚 𝙚𝙮𝙚𝙨. 💗\n",
      "\n",
      "#RoyalsFamily | @benstokes38 https://t.co/4OH0VJL4Cy\n",
      "Sentiment(polarity=0.0, subjectivity=0.0)\n",
      "\n",
      "\n",
      "#T20WC India Squad: Locked 🔒\n",
      "#T20WC Indian support bowlers: Locked 🔒\n",
      "\n",
      "Ready to bowl to the skipper, Umran? \n",
      "\n",
      "#TeamIndia #SRH #OrangeArmy #OrangeOrNothing https://t.co/IdqKYrXSLs\n",
      "Sentiment(polarity=0.2, subjectivity=0.5)\n",
      "\n",
      "\n",
      "#PBKS has a lot of game-changers already, but with the Mega Auctions coming next year, here’s Sassy Girl asking the people of Chandigarh who do they want to see don the red and gold! 🧐\n",
      "\n",
      "#SaddaPunjab #PunjabKings https://t.co/dKcYb6tTj9\n",
      "Sentiment(polarity=0.0, subjectivity=0.0)\n",
      "\n",
      "\n",
      "Months of perseverance has all led to this moment! Gear up to #KorboLoboJeetbo one last time as the Riders are all set for the finale! 💪\n",
      "\n",
      "@reliancejio #CSKvKKR #T20 #CricketFever #AbHarGharJioFiber https://t.co/o5FLInTDf0\n",
      "Sentiment(polarity=0.0, subjectivity=0.06666666666666667)\n",
      "\n",
      "\n"
     ]
    }
   ],
   "source": [
    "# Authentication\n",
    "consumerKey = 'a30vwjmZFWEkqpNDSj6SyRpRh'\n",
    "consumerSecret = 'KCQEalLOFjfUk774OmJCXQLyRQHZ9cM6Q1YJHqjoGwj1ryvHgV'\n",
    "accessToken = '1415692899098927105-0OZffFqzLXOzWrLlhQmOqMliNk13Fp'\n",
    "accessTokenSecret = 'R3SA0vyTmZdBM5flbvop3dhloj5egalUdHZcwUvAFcRa3'\n",
    "auth = tweepy.OAuthHandler(consumer_key=consumerKey, consumer_secret=consumerSecret)\n",
    "auth.set_access_token(accessToken, accessTokenSecret)\n",
    "api = tweepy.API(auth)\n",
    "\n",
    "#keyword ='#IPLWinner2021 -filter:retweets'\n",
    "keyword=['RCBTweets','ChennaiIPL','DelhiCapitals','rajasthanroyals','SunRisers','PunjabKingsIPL','KKRiders'] \n",
    "#noOfTweet = 1000\n",
    "total=[]\n",
    "anal=[]\n",
    "#keyword = input('Please enter keyword or hashtag to search: ')\n",
    "noOfTweet = 100 \n",
    "for i in range(0,len(keyword)):\n",
    " tweets = api.user_timeline(screen_name=keyword[i],tweet_mode='extended',count=noOfTweet)\n",
    " for tweet in tweets:\n",
    "    total.append(tweet.full_text)\n",
    "    analysis=TextBlob(tweet.full_text)\n",
    "    anal.append(analysis.sentiment)\n",
    "for i in range(0,len(keyword)):\n",
    " print(total[i*noOfTweet])\n",
    " print(anal[i*noOfTweet]) \n",
    " print('\\n')\n",
    "\n",
    "\n",
    "\n",
    "\n",
    "\n"
   ]
  },
  {
   "cell_type": "code",
   "execution_count": 6,
   "metadata": {},
   "outputs": [
    {
     "data": {
      "text/html": [
       "<div>\n",
       "<style scoped>\n",
       "    .dataframe tbody tr th:only-of-type {\n",
       "        vertical-align: middle;\n",
       "    }\n",
       "\n",
       "    .dataframe tbody tr th {\n",
       "        vertical-align: top;\n",
       "    }\n",
       "\n",
       "    .dataframe thead th {\n",
       "        text-align: right;\n",
       "    }\n",
       "</style>\n",
       "<table border=\"1\" class=\"dataframe\">\n",
       "  <thead>\n",
       "    <tr style=\"text-align: right;\">\n",
       "      <th></th>\n",
       "      <th>Tweets</th>\n",
       "    </tr>\n",
       "  </thead>\n",
       "  <tbody>\n",
       "    <tr>\n",
       "      <th>0</th>\n",
       "      <td>When you realise it is Friday tomorrow. 😁\\n\\n#...</td>\n",
       "    </tr>\n",
       "    <tr>\n",
       "      <th>1</th>\n",
       "      <td>Refreshing freshness in every sip for our chal...</td>\n",
       "    </tr>\n",
       "    <tr>\n",
       "      <th>2</th>\n",
       "      <td>Looking effortlessly cool with the new #RCBxPU...</td>\n",
       "    </tr>\n",
       "    <tr>\n",
       "      <th>3</th>\n",
       "      <td>Virat Kohli 🤝 Setting Records \\n\\nWe’ve loved ...</td>\n",
       "    </tr>\n",
       "    <tr>\n",
       "      <th>4</th>\n",
       "      <td>Setting the bar higher and higher with every #...</td>\n",
       "    </tr>\n",
       "    <tr>\n",
       "      <th>...</th>\n",
       "      <td>...</td>\n",
       "    </tr>\n",
       "    <tr>\n",
       "      <th>695</th>\n",
       "      <td>The vibes in the dressing room after the big w...</td>\n",
       "    </tr>\n",
       "    <tr>\n",
       "      <th>696</th>\n",
       "      <td>Whether you learn from your mistakes or from t...</td>\n",
       "    </tr>\n",
       "    <tr>\n",
       "      <th>697</th>\n",
       "      <td>\"I think our bowlers have actually shown us th...</td>\n",
       "    </tr>\n",
       "    <tr>\n",
       "      <th>698</th>\n",
       "      <td>Shakib Al Hasan heaped praises on teammate #Su...</td>\n",
       "    </tr>\n",
       "    <tr>\n",
       "      <th>699</th>\n",
       "      <td>ℂ𝔸𝕃𝕄ℕ𝔼𝕊𝕊 ℙ𝔼ℝ𝕊𝕆ℕ𝕀𝔽𝕀𝔼𝔻 😎\\n\\n#KKR #RCBvKKR #AmiKK...</td>\n",
       "    </tr>\n",
       "  </tbody>\n",
       "</table>\n",
       "<p>700 rows × 1 columns</p>\n",
       "</div>"
      ],
      "text/plain": [
       "                                                Tweets\n",
       "0    When you realise it is Friday tomorrow. 😁\\n\\n#...\n",
       "1    Refreshing freshness in every sip for our chal...\n",
       "2    Looking effortlessly cool with the new #RCBxPU...\n",
       "3    Virat Kohli 🤝 Setting Records \\n\\nWe’ve loved ...\n",
       "4    Setting the bar higher and higher with every #...\n",
       "..                                                 ...\n",
       "695  The vibes in the dressing room after the big w...\n",
       "696  Whether you learn from your mistakes or from t...\n",
       "697  \"I think our bowlers have actually shown us th...\n",
       "698  Shakib Al Hasan heaped praises on teammate #Su...\n",
       "699  ℂ𝔸𝕃𝕄ℕ𝔼𝕊𝕊 ℙ𝔼ℝ𝕊𝕆ℕ𝕀𝔽𝕀𝔼𝔻 😎\\n\\n#KKR #RCBvKKR #AmiKK...\n",
       "\n",
       "[700 rows x 1 columns]"
      ]
     },
     "execution_count": 6,
     "metadata": {},
     "output_type": "execute_result"
    }
   ],
   "source": [
    "data=pd.DataFrame([i for i in total],columns=['Tweets'])\n",
    "data\n"
   ]
  },
  {
   "cell_type": "code",
   "execution_count": 7,
   "metadata": {},
   "outputs": [
    {
     "data": {
      "text/html": [
       "<div>\n",
       "<style scoped>\n",
       "    .dataframe tbody tr th:only-of-type {\n",
       "        vertical-align: middle;\n",
       "    }\n",
       "\n",
       "    .dataframe tbody tr th {\n",
       "        vertical-align: top;\n",
       "    }\n",
       "\n",
       "    .dataframe thead th {\n",
       "        text-align: right;\n",
       "    }\n",
       "</style>\n",
       "<table border=\"1\" class=\"dataframe\">\n",
       "  <thead>\n",
       "    <tr style=\"text-align: right;\">\n",
       "      <th></th>\n",
       "      <th>Tweets</th>\n",
       "    </tr>\n",
       "  </thead>\n",
       "  <tbody>\n",
       "    <tr>\n",
       "      <th>0</th>\n",
       "      <td>when you realise it is friday tomorrow playbol...</td>\n",
       "    </tr>\n",
       "    <tr>\n",
       "      <th>1</th>\n",
       "      <td>refreshing freshness in every sip for our chal...</td>\n",
       "    </tr>\n",
       "    <tr>\n",
       "      <th>2</th>\n",
       "      <td>looking effortlessly cool with the new rcbxpum...</td>\n",
       "    </tr>\n",
       "    <tr>\n",
       "      <th>3</th>\n",
       "      <td>virat kohli  setting records weve loved watchi...</td>\n",
       "    </tr>\n",
       "    <tr>\n",
       "      <th>4</th>\n",
       "      <td>setting the bar higher and higher with every i...</td>\n",
       "    </tr>\n",
       "    <tr>\n",
       "      <th>...</th>\n",
       "      <td>...</td>\n",
       "    </tr>\n",
       "    <tr>\n",
       "      <th>695</th>\n",
       "      <td>the vibes in the dressing room after the big w...</td>\n",
       "    </tr>\n",
       "    <tr>\n",
       "      <th>696</th>\n",
       "      <td>whether you learn from your mistakes or from t...</td>\n",
       "    </tr>\n",
       "    <tr>\n",
       "      <th>697</th>\n",
       "      <td>i think our bowlers have actually shown us the...</td>\n",
       "    </tr>\n",
       "    <tr>\n",
       "      <th>698</th>\n",
       "      <td>shakib al hasan heaped praises on teammate sun...</td>\n",
       "    </tr>\n",
       "    <tr>\n",
       "      <th>699</th>\n",
       "      <td>ℂ𝔸𝕃𝕄ℕ𝔼𝕊𝕊 ℙ𝔼ℝ𝕊𝕆ℕ𝕀𝔽𝕀𝔼𝔻 kkr rcbvkkr amikkr korbol...</td>\n",
       "    </tr>\n",
       "  </tbody>\n",
       "</table>\n",
       "<p>700 rows × 1 columns</p>\n",
       "</div>"
      ],
      "text/plain": [
       "                                                Tweets\n",
       "0    when you realise it is friday tomorrow playbol...\n",
       "1    refreshing freshness in every sip for our chal...\n",
       "2    looking effortlessly cool with the new rcbxpum...\n",
       "3    virat kohli  setting records weve loved watchi...\n",
       "4    setting the bar higher and higher with every i...\n",
       "..                                                 ...\n",
       "695  the vibes in the dressing room after the big w...\n",
       "696  whether you learn from your mistakes or from t...\n",
       "697  i think our bowlers have actually shown us the...\n",
       "698  shakib al hasan heaped praises on teammate sun...\n",
       "699  ℂ𝔸𝕃𝕄ℕ𝔼𝕊𝕊 ℙ𝔼ℝ𝕊𝕆ℕ𝕀𝔽𝕀𝔼𝔻 kkr rcbvkkr amikkr korbol...\n",
       "\n",
       "[700 rows x 1 columns]"
      ]
     },
     "execution_count": 7,
     "metadata": {},
     "output_type": "execute_result"
    }
   ],
   "source": [
    "def cleanText(t):\n",
    "    t=re.sub(r'@[\\w]+','',t)#remove\n",
    "    t=re.sub(r'#','',t)\n",
    "    t=re.sub(r'[\\n\\t]','',t)\n",
    "    t=re.sub(r'RT[\\s]+','',t)\n",
    "    t=re.sub(r'https?:\\/\\/\\S+','',t)\n",
    "    t=re.sub('[^\\w\\s]','',t)\n",
    "    t=re.sub(r':','',t) \n",
    "    #t=t.str.lower()\n",
    "    return t\n",
    "data['Tweets']=data['Tweets'].apply(cleanText)\n",
    "data['Tweets']=data['Tweets'].str.lower()\n",
    "data    "
   ]
  },
  {
   "cell_type": "code",
   "execution_count": 8,
   "metadata": {},
   "outputs": [
    {
     "data": {
      "text/html": [
       "<div>\n",
       "<style scoped>\n",
       "    .dataframe tbody tr th:only-of-type {\n",
       "        vertical-align: middle;\n",
       "    }\n",
       "\n",
       "    .dataframe tbody tr th {\n",
       "        vertical-align: top;\n",
       "    }\n",
       "\n",
       "    .dataframe thead th {\n",
       "        text-align: right;\n",
       "    }\n",
       "</style>\n",
       "<table border=\"1\" class=\"dataframe\">\n",
       "  <thead>\n",
       "    <tr style=\"text-align: right;\">\n",
       "      <th></th>\n",
       "      <th>Tweets</th>\n",
       "    </tr>\n",
       "  </thead>\n",
       "  <tbody>\n",
       "    <tr>\n",
       "      <th>0</th>\n",
       "      <td>when you realise it is friday tomorrow playbol...</td>\n",
       "    </tr>\n",
       "    <tr>\n",
       "      <th>1</th>\n",
       "      <td>refreshing freshness in every sip for our chal...</td>\n",
       "    </tr>\n",
       "    <tr>\n",
       "      <th>2</th>\n",
       "      <td>looking effortlessly cool with the new rcbxpum...</td>\n",
       "    </tr>\n",
       "    <tr>\n",
       "      <th>3</th>\n",
       "      <td>virat kohli  setting records weve loved watchi...</td>\n",
       "    </tr>\n",
       "    <tr>\n",
       "      <th>4</th>\n",
       "      <td>setting the bar higher and higher with every i...</td>\n",
       "    </tr>\n",
       "    <tr>\n",
       "      <th>...</th>\n",
       "      <td>...</td>\n",
       "    </tr>\n",
       "    <tr>\n",
       "      <th>695</th>\n",
       "      <td>the vibes in the dressing room after the big w...</td>\n",
       "    </tr>\n",
       "    <tr>\n",
       "      <th>696</th>\n",
       "      <td>whether you learn from your mistakes or from t...</td>\n",
       "    </tr>\n",
       "    <tr>\n",
       "      <th>697</th>\n",
       "      <td>i think our bowlers have actually shown us the...</td>\n",
       "    </tr>\n",
       "    <tr>\n",
       "      <th>698</th>\n",
       "      <td>shakib al hasan heaped praises on teammate sun...</td>\n",
       "    </tr>\n",
       "    <tr>\n",
       "      <th>699</th>\n",
       "      <td>ℂℕ ℙℝℕ kkr rcbvkkr amikkr korbolorbojeetbo আমk...</td>\n",
       "    </tr>\n",
       "  </tbody>\n",
       "</table>\n",
       "<p>700 rows × 1 columns</p>\n",
       "</div>"
      ],
      "text/plain": [
       "                                                Tweets\n",
       "0    when you realise it is friday tomorrow playbol...\n",
       "1    refreshing freshness in every sip for our chal...\n",
       "2    looking effortlessly cool with the new rcbxpum...\n",
       "3    virat kohli  setting records weve loved watchi...\n",
       "4    setting the bar higher and higher with every i...\n",
       "..                                                 ...\n",
       "695  the vibes in the dressing room after the big w...\n",
       "696  whether you learn from your mistakes or from t...\n",
       "697  i think our bowlers have actually shown us the...\n",
       "698  shakib al hasan heaped praises on teammate sun...\n",
       "699  ℂℕ ℙℝℕ kkr rcbvkkr amikkr korbolorbojeetbo আমk...\n",
       "\n",
       "[700 rows x 1 columns]"
      ]
     },
     "execution_count": 8,
     "metadata": {},
     "output_type": "execute_result"
    }
   ],
   "source": [
    "def remove_emoji(text):\n",
    "    emoji_pattern = re.compile(\"[\"\n",
    "                           u\"\\U0001F600-\\U0001F64F\"  # emoticons\n",
    "                           u\"\\U0001F300-\\U0001F5FF\"  # symbols & pictographs\n",
    "                           u\"\\U0001F680-\\U0001F6FF\"  # transport & map symbols\n",
    "                           u\"\\U0001F1E0-\\U0001F1FF\"  # flags \n",
    "                           u\"\\U00002702-\\U000027B0\"\n",
    "                           u\"\\U000024C2-\\U0001F251\"\n",
    "                           \"]+\", flags=re.UNICODE)\n",
    "    return emoji_pattern.sub(r'', text)\n",
    "data['Tweets']=data['Tweets'].apply(remove_emoji)\n",
    "data    "
   ]
  },
  {
   "cell_type": "code",
   "execution_count": 9,
   "metadata": {},
   "outputs": [
    {
     "data": {
      "text/plain": [
       "'from spacy.lang.en.stop_words import STOP_WORDS\\n\\n# Create list of word tokens after removing stopwords\\nfiltered_sentence =[] \\n\\nfor word in data[\\'Tweets\\']:\\n  for i in word:  \\n    lexeme = nlp.vocab[i]\\n    if lexeme.is_stop == False:\\n        filtered_sentence.append(word) \\nprint(token_list)\\nprint(filtered_sentence)  \\ndata[\\'Tweets\\'] = data[\\'Tweets\\'].apply(lambda x: \" \".join(x for x in x.split() if x not in stopwords))\\ndata'"
      ]
     },
     "execution_count": 9,
     "metadata": {},
     "output_type": "execute_result"
    }
   ],
   "source": [
    "'''from spacy.lang.en.stop_words import STOP_WORDS\n",
    "\n",
    "# Create list of word tokens after removing stopwords\n",
    "filtered_sentence =[] \n",
    "\n",
    "for word in data['Tweets']:\n",
    "  for i in word:  \n",
    "    lexeme = nlp.vocab[i]\n",
    "    if lexeme.is_stop == False:\n",
    "        filtered_sentence.append(word) \n",
    "print(token_list)\n",
    "print(filtered_sentence)  \n",
    "data['Tweets'] = data['Tweets'].apply(lambda x: \" \".join(x for x in x.split() if x not in stopwords))\n",
    "data'''"
   ]
  },
  {
   "cell_type": "code",
   "execution_count": 10,
   "metadata": {},
   "outputs": [
    {
     "data": {
      "text/html": [
       "<div>\n",
       "<style scoped>\n",
       "    .dataframe tbody tr th:only-of-type {\n",
       "        vertical-align: middle;\n",
       "    }\n",
       "\n",
       "    .dataframe tbody tr th {\n",
       "        vertical-align: top;\n",
       "    }\n",
       "\n",
       "    .dataframe thead th {\n",
       "        text-align: right;\n",
       "    }\n",
       "</style>\n",
       "<table border=\"1\" class=\"dataframe\">\n",
       "  <thead>\n",
       "    <tr style=\"text-align: right;\">\n",
       "      <th></th>\n",
       "      <th>Tweets</th>\n",
       "      <th>subjectivity</th>\n",
       "      <th>polar</th>\n",
       "    </tr>\n",
       "  </thead>\n",
       "  <tbody>\n",
       "    <tr>\n",
       "      <th>0</th>\n",
       "      <td>when you realise it is friday tomorrow playbol...</td>\n",
       "      <td>0.000000</td>\n",
       "      <td>0.000000</td>\n",
       "    </tr>\n",
       "    <tr>\n",
       "      <th>1</th>\n",
       "      <td>refreshing freshness in every sip for our chal...</td>\n",
       "      <td>0.700000</td>\n",
       "      <td>0.050000</td>\n",
       "    </tr>\n",
       "    <tr>\n",
       "      <th>2</th>\n",
       "      <td>looking effortlessly cool with the new rcbxpum...</td>\n",
       "      <td>0.552273</td>\n",
       "      <td>0.243182</td>\n",
       "    </tr>\n",
       "    <tr>\n",
       "      <th>3</th>\n",
       "      <td>virat kohli  setting records weve loved watchi...</td>\n",
       "      <td>0.507143</td>\n",
       "      <td>0.314286</td>\n",
       "    </tr>\n",
       "    <tr>\n",
       "      <th>4</th>\n",
       "      <td>setting the bar higher and higher with every i...</td>\n",
       "      <td>0.500000</td>\n",
       "      <td>0.250000</td>\n",
       "    </tr>\n",
       "  </tbody>\n",
       "</table>\n",
       "</div>"
      ],
      "text/plain": [
       "                                              Tweets  subjectivity     polar\n",
       "0  when you realise it is friday tomorrow playbol...      0.000000  0.000000\n",
       "1  refreshing freshness in every sip for our chal...      0.700000  0.050000\n",
       "2  looking effortlessly cool with the new rcbxpum...      0.552273  0.243182\n",
       "3  virat kohli  setting records weve loved watchi...      0.507143  0.314286\n",
       "4  setting the bar higher and higher with every i...      0.500000  0.250000"
      ]
     },
     "execution_count": 10,
     "metadata": {},
     "output_type": "execute_result"
    }
   ],
   "source": [
    "def getsubject(t):\n",
    "   return TextBlob(t).sentiment.subjectivity\n",
    "def getpolar(t):\n",
    "   return TextBlob(t).sentiment.polarity\n",
    "   \n",
    "data['subjectivity']=data['Tweets'].apply(getsubject)   \n",
    "data['polar']=data['Tweets'].apply(getpolar)   \n",
    "data.head()"
   ]
  },
  {
   "cell_type": "code",
   "execution_count": 11,
   "metadata": {},
   "outputs": [
    {
     "data": {
      "text/html": [
       "<div>\n",
       "<style scoped>\n",
       "    .dataframe tbody tr th:only-of-type {\n",
       "        vertical-align: middle;\n",
       "    }\n",
       "\n",
       "    .dataframe tbody tr th {\n",
       "        vertical-align: top;\n",
       "    }\n",
       "\n",
       "    .dataframe thead th {\n",
       "        text-align: right;\n",
       "    }\n",
       "</style>\n",
       "<table border=\"1\" class=\"dataframe\">\n",
       "  <thead>\n",
       "    <tr style=\"text-align: right;\">\n",
       "      <th></th>\n",
       "      <th>Tweets</th>\n",
       "      <th>subjectivity</th>\n",
       "      <th>polar</th>\n",
       "      <th>result</th>\n",
       "    </tr>\n",
       "  </thead>\n",
       "  <tbody>\n",
       "    <tr>\n",
       "      <th>0</th>\n",
       "      <td>when you realise it is friday tomorrow playbol...</td>\n",
       "      <td>0.000000</td>\n",
       "      <td>0.000000</td>\n",
       "      <td>neutral</td>\n",
       "    </tr>\n",
       "    <tr>\n",
       "      <th>1</th>\n",
       "      <td>refreshing freshness in every sip for our chal...</td>\n",
       "      <td>0.700000</td>\n",
       "      <td>0.050000</td>\n",
       "      <td>positive</td>\n",
       "    </tr>\n",
       "    <tr>\n",
       "      <th>2</th>\n",
       "      <td>looking effortlessly cool with the new rcbxpum...</td>\n",
       "      <td>0.552273</td>\n",
       "      <td>0.243182</td>\n",
       "      <td>positive</td>\n",
       "    </tr>\n",
       "    <tr>\n",
       "      <th>3</th>\n",
       "      <td>virat kohli  setting records weve loved watchi...</td>\n",
       "      <td>0.507143</td>\n",
       "      <td>0.314286</td>\n",
       "      <td>positive</td>\n",
       "    </tr>\n",
       "    <tr>\n",
       "      <th>4</th>\n",
       "      <td>setting the bar higher and higher with every i...</td>\n",
       "      <td>0.500000</td>\n",
       "      <td>0.250000</td>\n",
       "      <td>positive</td>\n",
       "    </tr>\n",
       "  </tbody>\n",
       "</table>\n",
       "</div>"
      ],
      "text/plain": [
       "                                              Tweets  subjectivity     polar  \\\n",
       "0  when you realise it is friday tomorrow playbol...      0.000000  0.000000   \n",
       "1  refreshing freshness in every sip for our chal...      0.700000  0.050000   \n",
       "2  looking effortlessly cool with the new rcbxpum...      0.552273  0.243182   \n",
       "3  virat kohli  setting records weve loved watchi...      0.507143  0.314286   \n",
       "4  setting the bar higher and higher with every i...      0.500000  0.250000   \n",
       "\n",
       "     result  \n",
       "0   neutral  \n",
       "1  positive  \n",
       "2  positive  \n",
       "3  positive  \n",
       "4  positive  "
      ]
     },
     "execution_count": 11,
     "metadata": {},
     "output_type": "execute_result"
    }
   ],
   "source": [
    "#postive,negatinve,neutral\n",
    "def analysis(score):\n",
    "    if(score>0): \n",
    "        return 'positive'\n",
    "    elif(score<0): \n",
    "        return 'negative'\n",
    "    else:\n",
    "         return 'neutral'\n",
    "data['result']=data['polar'].apply(analysis)\n",
    "data.head()    \n"
   ]
  },
  {
   "cell_type": "code",
   "execution_count": 12,
   "metadata": {},
   "outputs": [
    {
     "data": {
      "image/png": "[encoded data removed]",
      "text/plain": [
       "<Figure size 576x432 with 1 Axes>"
      ]
     },
     "metadata": {
      "needs_background": "light"
     },
     "output_type": "display_data"
    },
    {
     "data": {
      "image/png": "[encoded data removed]",
      "text/plain": [
       "<Figure size 432x288 with 1 Axes>"
      ]
     },
     "metadata": {
      "needs_background": "light"
     },
     "output_type": "display_data"
    },
    {
     "data": {
      "image/png": "[encoded data removed]",
      "text/plain": [
       "<Figure size 432x288 with 1 Axes>"
      ]
     },
     "metadata": {
      "needs_background": "light"
     },
     "output_type": "display_data"
    },
    {
     "data": {
      "image/png": "[encoded data removed]",
      "text/plain": [
       "<Figure size 432x288 with 1 Axes>"
      ]
     },
     "metadata": {
      "needs_background": "light"
     },
     "output_type": "display_data"
    },
    {
     "data": {
      "image/png": "[encoded data removed]",
      "text/plain": [
       "<Figure size 432x288 with 1 Axes>"
      ]
     },
     "metadata": {
      "needs_background": "light"
     },
     "output_type": "display_data"
    },
    {
     "data": {
      "image/png": "[encoded data removed]",
      "text/plain": [
       "<Figure size 432x288 with 1 Axes>"
      ]
     },
     "metadata": {
      "needs_background": "light"
     },
     "output_type": "display_data"
    }
   ],
   "source": [
    "plt.figure(figsize=(8,6))\n",
    "for i in range(0,(len(keyword)-1)*noOfTweet,noOfTweet):\n",
    "    for j in range(i,i+noOfTweet):\n",
    "     plt.scatter(data['polar'][j],data['subjectivity'][j],color='green')\n",
    "    plt.title(keyword[int(i/noOfTweet)])\n",
    "    plt.xlabel('polar')\n",
    "    plt.ylabel('subjectivity')\n",
    "    plt.show()    "
   ]
  },
  {
   "cell_type": "code",
   "execution_count": 22,
   "metadata": {},
   "outputs": [
    {
     "data": {
      "image/png": "[encoded data removed]",
      "text/plain": [
       "<Figure size 432x288 with 1 Axes>"
      ]
     },
     "metadata": {},
     "output_type": "display_data"
    },
    {
     "name": "stdout",
     "output_type": "stream",
     "text": [
      "RCBTweets-postive 61.0\n",
      "\n",
      "RCBTweets-negative 6.0\n",
      "\n",
      "RCBTweets-nuetral 33.0\n",
      "\n"
     ]
    },
    {
     "data": {
      "image/png": "[encoded data removed]",
      "text/plain": [
       "<Figure size 432x288 with 1 Axes>"
      ]
     },
     "metadata": {},
     "output_type": "display_data"
    },
    {
     "name": "stdout",
     "output_type": "stream",
     "text": [
      "ChennaiIPL-postive 21.0\n",
      "\n",
      "ChennaiIPL-negative 3.0\n",
      "\n",
      "ChennaiIPL-nuetral 76.0\n",
      "\n"
     ]
    },
    {
     "data": {
      "image/png": "[encoded data removed]",
      "text/plain": [
       "<Figure size 432x288 with 1 Axes>"
      ]
     },
     "metadata": {},
     "output_type": "display_data"
    },
    {
     "name": "stdout",
     "output_type": "stream",
     "text": [
      "DelhiCapitals-postive 38.0\n",
      "\n",
      "DelhiCapitals-negative 14.000000000000002\n",
      "\n",
      "DelhiCapitals-nuetral 48.0\n",
      "\n"
     ]
    },
    {
     "data": {
      "image/png": "[encoded data removed]",
      "text/plain": [
       "<Figure size 432x288 with 1 Axes>"
      ]
     },
     "metadata": {},
     "output_type": "display_data"
    },
    {
     "name": "stdout",
     "output_type": "stream",
     "text": [
      "rajasthanroyals-postive 25.0\n",
      "\n",
      "rajasthanroyals-negative 3.0\n",
      "\n",
      "rajasthanroyals-nuetral 72.0\n",
      "\n"
     ]
    },
    {
     "data": {
      "image/png": "[encoded data removed]",
      "text/plain": [
       "<Figure size 432x288 with 1 Axes>"
      ]
     },
     "metadata": {},
     "output_type": "display_data"
    },
    {
     "name": "stdout",
     "output_type": "stream",
     "text": [
      "SunRisers-postive 48.0\n",
      "\n",
      "SunRisers-negative 12.0\n",
      "\n",
      "SunRisers-nuetral 40.0\n",
      "\n"
     ]
    },
    {
     "data": {
      "image/png": "[encoded data removed]",
      "text/plain": [
       "<Figure size 432x288 with 1 Axes>"
      ]
     },
     "metadata": {},
     "output_type": "display_data"
    },
    {
     "name": "stdout",
     "output_type": "stream",
     "text": [
      "PunjabKingsIPL-postive 43.0\n",
      "\n",
      "PunjabKingsIPL-negative 7.000000000000001\n",
      "\n",
      "PunjabKingsIPL-nuetral 50.0\n",
      "\n"
     ]
    }
   ],
   "source": [
    "for i in range(0,(len(keyword)-1)*noOfTweet,noOfTweet):\n",
    "    pos=0\n",
    "    neg=0\n",
    "    nue=0\n",
    "    for j in range(i,i+noOfTweet):\n",
    "        \n",
    "        if(data['result'][j]=='positive'): \n",
    "           pos+=1\n",
    "        elif(data['result'][j]=='negative'):\n",
    "           neg+=1\n",
    "        else:\n",
    "          nue+=1  \n",
    "    name = ['positive','negative','neutral']\n",
    "    percent = [pos,neg,nue]\n",
    "    plt.pie(percent, labels=name, counterclock=False ,explode = explode ,autopct='%0.f%%', shadow=True, startangle=90)   \n",
    "    plt.show()    \n",
    "    print(keyword[int(i/noOfTweet)]+ '-postive {}\\n'.format(float(pos/noOfTweet)*100))\n",
    "    print(keyword[int(i/noOfTweet)] +'-negative {}\\n'.format(float(neg/noOfTweet)*100))\n",
    "    print(keyword[int(i/noOfTweet)] +'-nuetral {}\\n'.format(float(nue/noOfTweet)*100))\n",
    "\n",
    "\n"
   ]
  },
  {
   "cell_type": "code",
   "execution_count": null,
   "metadata": {},
   "outputs": [],
   "source": []
  },
  {
   "cell_type": "code",
   "execution_count": null,
   "metadata": {},
   "outputs": [],
   "source": []
  }
 ],
 "metadata": {
  "interpreter": {
   "hash": "71bab4009be30c6fc5b2bf2fee0385699edd28c4facf64b4f3f0dff5f19cadde"
  },
  "kernelspec": {
   "display_name": "Python 3.9.6 64-bit ('venv': venv)",
   "name": "python3"
  },
  "language_info": {
   "codemirror_mode": {
    "name": "ipython",
    "version": 3
   },
   "file_extension": ".py",
   "mimetype": "text/x-python",
   "name": "python",
   "nbconvert_exporter": "python",
   "pygments_lexer": "ipython3",
   "version": "3.9.6"
  },
  "orig_nbformat": 4
 },
 "nbformat": 4,
 "nbformat_minor": 2
}
